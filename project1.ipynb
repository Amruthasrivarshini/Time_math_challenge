{
 "cells": [
  {
   "cell_type": "code",
   "execution_count": 1,
   "id": "9bad7b2c-a1f2-431c-b2d6-13bda893b0f6",
   "metadata": {},
   "outputs": [],
   "source": [
    "import random\n",
    "import time"
   ]
  },
  {
   "cell_type": "code",
   "execution_count": 2,
   "id": "2b22b7d4-cd36-4366-846f-d186816948bc",
   "metadata": {},
   "outputs": [],
   "source": [
    "def generate_question():\n",
    "    num1 = random.randint(1, 20)\n",
    "    num2 = random.randint(1, 20)\n",
    "    operator = random.choice(['+', '-', '*'])\n",
    "    question = f\"{num1} {operator} {num2}\"\n",
    "    answer = eval(question)  # Evaluate the expression to get the answer\n",
    "    return question, answer"
   ]
  },
  {
   "cell_type": "code",
   "execution_count": 6,
   "id": "a080306e-246a-4a4a-992f-d8ed6c2bc46e",
   "metadata": {},
   "outputs": [],
   "source": [
    "def main():\n",
    "    score = 0\n",
    "    num_questions = 5   \n",
    "    time_limit = 10     \n",
    "\n",
    "    print(\"Welcome to the Timed Math Challenge!\")\n",
    "    print(f\"You will have {time_limit} seconds to answer each question.\")\n",
    "    print(\"Let's begin!\\n\")\n",
    "    for _ in range(num_questions):\n",
    "        question, correct_answer = generate_question()\n",
    "\n",
    "        print(f\"What is the answer to: {question}?\")\n",
    "        \n",
    "        start_time = time.time()\n",
    "        user_answer = input(\"Your answer: \")\n",
    "\n",
    "        try:\n",
    "            user_answer = int(user_answer)\n",
    "        except ValueError:\n",
    "            print(\"Invalid input. Skipping this question.\")\n",
    "            continue\n",
    "\n",
    "        if user_answer == correct_answer and (time.time() - start_time) <= time_limit:\n",
    "            score += 1\n",
    "            print(\"Correct!\\n\")\n",
    "        else:\n",
    "            print(f\"Wrong. The correct answer was: {correct_answer}\\n\")\n",
    "\n",
    "    print(f\"Quiz complete! Your score is: {score}/{num_questions}\")"
   ]
  },
  {
   "cell_type": "code",
   "execution_count": null,
   "id": "95c080b7-1491-4aa1-bf89-da79db90dc41",
   "metadata": {},
   "outputs": [],
   "source": [
    "if __name__ == \"__main__\":\n",
    "    main()"
   ]
  }
 ],
 "metadata": {
  "kernelspec": {
   "display_name": "Python 3 (ipykernel)",
   "language": "python",
   "name": "python3"
  },
  "language_info": {
   "codemirror_mode": {
    "name": "ipython",
    "version": 3
   },
   "file_extension": ".py",
   "mimetype": "text/x-python",
   "name": "python",
   "nbconvert_exporter": "python",
   "pygments_lexer": "ipython3",
   "version": "3.12.4"
  }
 },
 "nbformat": 4,
 "nbformat_minor": 5
}
